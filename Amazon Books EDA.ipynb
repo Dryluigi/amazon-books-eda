{
 "cells": [
  {
   "cell_type": "markdown",
   "id": "recorded-collection",
   "metadata": {},
   "source": [
    "# Exploratory Data Analysis"
   ]
  },
  {
   "cell_type": "markdown",
   "id": "changing-multiple",
   "metadata": {},
   "source": [
    "## Import Libraries"
   ]
  },
  {
   "cell_type": "code",
   "execution_count": 2,
   "id": "legal-ticket",
   "metadata": {},
   "outputs": [],
   "source": [
    "import pandas as pd\n",
    "import numpy as np\n",
    "import seaborn as sns\n",
    "import matplotlib.pyplot as plt\n",
    "from IPython.display import display\n",
    "%matplotlib inline"
   ]
  },
  {
   "cell_type": "markdown",
   "id": "wicked-reverse",
   "metadata": {},
   "source": [
    "## Inspeksi Data"
   ]
  },
  {
   "cell_type": "markdown",
   "id": "working-orange",
   "metadata": {},
   "source": [
    "Dataset didapat dari Kaggle. <br>\n",
    "Data dapat diunduh pada tautan berikut,<br>\n",
    "https://www.kaggle.com/sootersaalu/amazon-top-50-bestselling-books-2009-2019"
   ]
  },
  {
   "cell_type": "code",
   "execution_count": 3,
   "id": "advance-updating",
   "metadata": {},
   "outputs": [
    {
     "data": {
      "text/html": [
       "<div>\n",
       "<style scoped>\n",
       "    .dataframe tbody tr th:only-of-type {\n",
       "        vertical-align: middle;\n",
       "    }\n",
       "\n",
       "    .dataframe tbody tr th {\n",
       "        vertical-align: top;\n",
       "    }\n",
       "\n",
       "    .dataframe thead th {\n",
       "        text-align: right;\n",
       "    }\n",
       "</style>\n",
       "<table border=\"1\" class=\"dataframe\">\n",
       "  <thead>\n",
       "    <tr style=\"text-align: right;\">\n",
       "      <th></th>\n",
       "      <th>Name</th>\n",
       "      <th>Author</th>\n",
       "      <th>User Rating</th>\n",
       "      <th>Reviews</th>\n",
       "      <th>Price</th>\n",
       "      <th>Year</th>\n",
       "      <th>Genre</th>\n",
       "    </tr>\n",
       "  </thead>\n",
       "  <tbody>\n",
       "    <tr>\n",
       "      <th>0</th>\n",
       "      <td>10-Day Green Smoothie Cleanse</td>\n",
       "      <td>JJ Smith</td>\n",
       "      <td>4.7</td>\n",
       "      <td>17350</td>\n",
       "      <td>8</td>\n",
       "      <td>2016</td>\n",
       "      <td>Non Fiction</td>\n",
       "    </tr>\n",
       "    <tr>\n",
       "      <th>1</th>\n",
       "      <td>11/22/63: A Novel</td>\n",
       "      <td>Stephen King</td>\n",
       "      <td>4.6</td>\n",
       "      <td>2052</td>\n",
       "      <td>22</td>\n",
       "      <td>2011</td>\n",
       "      <td>Fiction</td>\n",
       "    </tr>\n",
       "    <tr>\n",
       "      <th>2</th>\n",
       "      <td>12 Rules for Life: An Antidote to Chaos</td>\n",
       "      <td>Jordan B. Peterson</td>\n",
       "      <td>4.7</td>\n",
       "      <td>18979</td>\n",
       "      <td>15</td>\n",
       "      <td>2018</td>\n",
       "      <td>Non Fiction</td>\n",
       "    </tr>\n",
       "    <tr>\n",
       "      <th>3</th>\n",
       "      <td>1984 (Signet Classics)</td>\n",
       "      <td>George Orwell</td>\n",
       "      <td>4.7</td>\n",
       "      <td>21424</td>\n",
       "      <td>6</td>\n",
       "      <td>2017</td>\n",
       "      <td>Fiction</td>\n",
       "    </tr>\n",
       "    <tr>\n",
       "      <th>4</th>\n",
       "      <td>5,000 Awesome Facts (About Everything!) (Natio...</td>\n",
       "      <td>National Geographic Kids</td>\n",
       "      <td>4.8</td>\n",
       "      <td>7665</td>\n",
       "      <td>12</td>\n",
       "      <td>2019</td>\n",
       "      <td>Non Fiction</td>\n",
       "    </tr>\n",
       "  </tbody>\n",
       "</table>\n",
       "</div>"
      ],
      "text/plain": [
       "                                                Name  \\\n",
       "0                      10-Day Green Smoothie Cleanse   \n",
       "1                                  11/22/63: A Novel   \n",
       "2            12 Rules for Life: An Antidote to Chaos   \n",
       "3                             1984 (Signet Classics)   \n",
       "4  5,000 Awesome Facts (About Everything!) (Natio...   \n",
       "\n",
       "                     Author  User Rating  Reviews  Price  Year        Genre  \n",
       "0                  JJ Smith          4.7    17350      8  2016  Non Fiction  \n",
       "1              Stephen King          4.6     2052     22  2011      Fiction  \n",
       "2        Jordan B. Peterson          4.7    18979     15  2018  Non Fiction  \n",
       "3             George Orwell          4.7    21424      6  2017      Fiction  \n",
       "4  National Geographic Kids          4.8     7665     12  2019  Non Fiction  "
      ]
     },
     "execution_count": 3,
     "metadata": {},
     "output_type": "execute_result"
    }
   ],
   "source": [
    "df = pd.read_csv(\"./dataset/bestsellers with categories.csv\")\n",
    "\n",
    "df.head()"
   ]
  },
  {
   "cell_type": "code",
   "execution_count": 4,
   "id": "waiting-financing",
   "metadata": {},
   "outputs": [
    {
     "data": {
      "text/plain": [
       "(550, 7)"
      ]
     },
     "execution_count": 4,
     "metadata": {},
     "output_type": "execute_result"
    }
   ],
   "source": [
    "df.shape"
   ]
  },
  {
   "cell_type": "code",
   "execution_count": 5,
   "id": "improved-eugene",
   "metadata": {},
   "outputs": [
    {
     "name": "stdout",
     "output_type": "stream",
     "text": [
      "<class 'pandas.core.frame.DataFrame'>\n",
      "RangeIndex: 550 entries, 0 to 549\n",
      "Data columns (total 7 columns):\n",
      " #   Column       Non-Null Count  Dtype  \n",
      "---  ------       --------------  -----  \n",
      " 0   Name         550 non-null    object \n",
      " 1   Author       550 non-null    object \n",
      " 2   User Rating  550 non-null    float64\n",
      " 3   Reviews      550 non-null    int64  \n",
      " 4   Price        550 non-null    int64  \n",
      " 5   Year         550 non-null    int64  \n",
      " 6   Genre        550 non-null    object \n",
      "dtypes: float64(1), int64(3), object(3)\n",
      "memory usage: 30.2+ KB\n"
     ]
    }
   ],
   "source": [
    "df.info()"
   ]
  },
  {
   "cell_type": "markdown",
   "id": "adjacent-century",
   "metadata": {},
   "source": [
    "Total data berjumlah 550 data dengan banyak kolom / variabel sebanyak 7. Rincian dari setiap variabel ini antara lain, 3 variabel bertipe string, 1 float, dan 3 sisanya integer. <br>\n",
    "Penjelasan mengenai setiap variabel / _data dictionary_ dari dataset ini dapat diakses pada tautan berikut: <br>\n",
    "https://www.kaggle.com/sootersaalu/amazon-top-50-bestselling-books-2009-2019"
   ]
  },
  {
   "cell_type": "code",
   "execution_count": 6,
   "id": "joined-shipping",
   "metadata": {},
   "outputs": [
    {
     "data": {
      "text/html": [
       "<div>\n",
       "<style scoped>\n",
       "    .dataframe tbody tr th:only-of-type {\n",
       "        vertical-align: middle;\n",
       "    }\n",
       "\n",
       "    .dataframe tbody tr th {\n",
       "        vertical-align: top;\n",
       "    }\n",
       "\n",
       "    .dataframe thead th {\n",
       "        text-align: right;\n",
       "    }\n",
       "</style>\n",
       "<table border=\"1\" class=\"dataframe\">\n",
       "  <thead>\n",
       "    <tr style=\"text-align: right;\">\n",
       "      <th></th>\n",
       "      <th>User Rating</th>\n",
       "      <th>Reviews</th>\n",
       "      <th>Price</th>\n",
       "      <th>Year</th>\n",
       "    </tr>\n",
       "  </thead>\n",
       "  <tbody>\n",
       "    <tr>\n",
       "      <th>count</th>\n",
       "      <td>550.000000</td>\n",
       "      <td>550.000000</td>\n",
       "      <td>550.000000</td>\n",
       "      <td>550.000000</td>\n",
       "    </tr>\n",
       "    <tr>\n",
       "      <th>mean</th>\n",
       "      <td>4.618364</td>\n",
       "      <td>11953.281818</td>\n",
       "      <td>13.100000</td>\n",
       "      <td>2014.000000</td>\n",
       "    </tr>\n",
       "    <tr>\n",
       "      <th>std</th>\n",
       "      <td>0.226980</td>\n",
       "      <td>11731.132017</td>\n",
       "      <td>10.842262</td>\n",
       "      <td>3.165156</td>\n",
       "    </tr>\n",
       "    <tr>\n",
       "      <th>min</th>\n",
       "      <td>3.300000</td>\n",
       "      <td>37.000000</td>\n",
       "      <td>0.000000</td>\n",
       "      <td>2009.000000</td>\n",
       "    </tr>\n",
       "    <tr>\n",
       "      <th>25%</th>\n",
       "      <td>4.500000</td>\n",
       "      <td>4058.000000</td>\n",
       "      <td>7.000000</td>\n",
       "      <td>2011.000000</td>\n",
       "    </tr>\n",
       "    <tr>\n",
       "      <th>50%</th>\n",
       "      <td>4.700000</td>\n",
       "      <td>8580.000000</td>\n",
       "      <td>11.000000</td>\n",
       "      <td>2014.000000</td>\n",
       "    </tr>\n",
       "    <tr>\n",
       "      <th>75%</th>\n",
       "      <td>4.800000</td>\n",
       "      <td>17253.250000</td>\n",
       "      <td>16.000000</td>\n",
       "      <td>2017.000000</td>\n",
       "    </tr>\n",
       "    <tr>\n",
       "      <th>max</th>\n",
       "      <td>4.900000</td>\n",
       "      <td>87841.000000</td>\n",
       "      <td>105.000000</td>\n",
       "      <td>2019.000000</td>\n",
       "    </tr>\n",
       "  </tbody>\n",
       "</table>\n",
       "</div>"
      ],
      "text/plain": [
       "       User Rating       Reviews       Price         Year\n",
       "count   550.000000    550.000000  550.000000   550.000000\n",
       "mean      4.618364  11953.281818   13.100000  2014.000000\n",
       "std       0.226980  11731.132017   10.842262     3.165156\n",
       "min       3.300000     37.000000    0.000000  2009.000000\n",
       "25%       4.500000   4058.000000    7.000000  2011.000000\n",
       "50%       4.700000   8580.000000   11.000000  2014.000000\n",
       "75%       4.800000  17253.250000   16.000000  2017.000000\n",
       "max       4.900000  87841.000000  105.000000  2019.000000"
      ]
     },
     "execution_count": 6,
     "metadata": {},
     "output_type": "execute_result"
    }
   ],
   "source": [
    "df.describe()"
   ]
  },
  {
   "cell_type": "code",
   "execution_count": 7,
   "id": "macro-press",
   "metadata": {},
   "outputs": [
    {
     "data": {
      "text/plain": [
       "Name           351\n",
       "Author         248\n",
       "User Rating     14\n",
       "Reviews        346\n",
       "Price           40\n",
       "Year            11\n",
       "Genre            2\n",
       "dtype: int64"
      ]
     },
     "execution_count": 7,
     "metadata": {},
     "output_type": "execute_result"
    }
   ],
   "source": [
    "df.nunique()"
   ]
  },
  {
   "cell_type": "markdown",
   "id": "middle-athletics",
   "metadata": {},
   "source": [
    "## Exploratory Data Analysis"
   ]
  },
  {
   "cell_type": "markdown",
   "id": "dedicated-spray",
   "metadata": {},
   "source": [
    "EDA dilakukan untuk memahami data lebih dalam. EDA pada kasus ini dilakukan dengan menganalisa setiap variabelnya lalu mengaitkannya pada variabel lain nantinya."
   ]
  },
  {
   "cell_type": "code",
   "execution_count": 11,
   "id": "single-buddy",
   "metadata": {},
   "outputs": [],
   "source": [
    "# set tema / style untuk setiap plot yang dibuat\n",
    "sns.set_style(style=\"darkgrid\")"
   ]
  },
  {
   "cell_type": "code",
   "execution_count": 12,
   "id": "common-collect",
   "metadata": {},
   "outputs": [],
   "source": [
    "def makeDistribution(data):\n",
    "    fig, ax = plt.subplots()\n",
    "    mean, median, mode = data.mean(), data.median(), data.mode()[0]\n",
    "    sns.histplot(data, ax=ax)\n",
    "    ax.axvline(mean, color='r', linestyle='--')\n",
    "    ax.axvline(median, color='g')\n",
    "    ax.axvline(mode, color='b')\n",
    "\n",
    "    plt.legend({\n",
    "        'Mean' : mean,\n",
    "        'Median' : median,\n",
    "        'Mode' : mode\n",
    "    })\n",
    "    plt.show()"
   ]
  },
  {
   "cell_type": "markdown",
   "id": "motivated-smith",
   "metadata": {},
   "source": [
    "Untuk membuat grafik distribusi dengan mudah, proses saya buat sebagai fungsi sehingga dapat digunakan lagi nantinya."
   ]
  },
  {
   "cell_type": "markdown",
   "id": "unusual-authentication",
   "metadata": {},
   "source": [
    "### Weighted Rating"
   ]
  },
  {
   "cell_type": "markdown",
   "id": "through-barrier",
   "metadata": {},
   "source": [
    "Sebelum melanjutkan lebih jauh, menurut saya variabel _weighted rating_ perlu dibuat. Mengapa demikian? <br>\n",
    "Nilai suatu buku pada dataset ini dinyatakan dalam bentuk angka yang berada pada variabel _User Rating_. Variabel ini merupakan hasil rata-rata dari penilaian pembeli. Lalu variabel _Reviews_ adalah variabel yang menunjukkan banyaknya pembeli yang melakukan penilaian pada buku tersebut."
   ]
  },
  {
   "cell_type": "code",
   "execution_count": 39,
   "id": "retired-cosmetic",
   "metadata": {},
   "outputs": [
    {
     "data": {
      "image/png": "[encoded data removed]",
      "text/plain": [
       "<Figure size 432x288 with 1 Axes>"
      ]
     },
     "metadata": {},
     "output_type": "display_data"
    }
   ],
   "source": [
    "makeDistribution(df['User Rating'])"
   ]
  },
  {
   "cell_type": "markdown",
   "id": "level-reference",
   "metadata": {},
   "source": [
    "Distribusi berada pada rentang 3.4 hingga 4.8. Variasi dari distribusi ini dapat dibilang kecil. Mayoritas berada pada angka 4.8."
   ]
  },
  {
   "cell_type": "markdown",
   "id": "careful-mandate",
   "metadata": {},
   "source": [
    "Saya rasa tidak adil membandingkan buku yang memiliki _User Rating_ sebesar 4.8  dan banyak _Reviews_ 10 dengan buku yang memiliki _User Rating_ 3.4 dan banyak _Reviews_ 10000. Untuk mengatasi hal ini, kedua variabel akan dipertimbangkan lalu membuat skor tersendiri yang menggunakan kedua variabel ini. Skor ini akan saya namakan _Weighted Rating_."
   ]
  },
  {
   "cell_type": "markdown",
   "id": "structural-sandwich",
   "metadata": {},
   "source": [
    "Sistem _weighted rating_ ini juga diterapkan pada salah satu situs penyedia informasi film terbesar, yaitu IMDb. IMDb menggunakan rumus tersendiri untuk menghitung skor rating ini dengan mempertimbangkan rating penonton dengan jumlah rating. Penjelasan mendetail mengenai rumus ini dapat dilihat pada pada tautan <a href=\"https://mathforums.com/threads/understanding-the-imdb-weighted-rating-function.265489/\">berikut</a>. Rumus ini akan saya gunakan di dalam fungsi untuk menghitung _weighted rating_."
   ]
  },
  {
   "cell_type": "code",
   "execution_count": 9,
   "id": "round-oxford",
   "metadata": {},
   "outputs": [],
   "source": [
    "m = df['Reviews'].min()\n",
    "C = df['User Rating'].mean()\n",
    "\n",
    "def getWeightedRating(data, m=m, C=C):\n",
    "    v = data['Reviews']\n",
    "    R = data['User Rating']\n",
    "    return (v/(v+m)*R) + (m/(v+m)*C)"
   ]
  },
  {
   "cell_type": "code",
   "execution_count": 10,
   "id": "thousand-evans",
   "metadata": {},
   "outputs": [
    {
     "data": {
      "text/html": [
       "<div>\n",
       "<style scoped>\n",
       "    .dataframe tbody tr th:only-of-type {\n",
       "        vertical-align: middle;\n",
       "    }\n",
       "\n",
       "    .dataframe tbody tr th {\n",
       "        vertical-align: top;\n",
       "    }\n",
       "\n",
       "    .dataframe thead th {\n",
       "        text-align: right;\n",
       "    }\n",
       "</style>\n",
       "<table border=\"1\" class=\"dataframe\">\n",
       "  <thead>\n",
       "    <tr style=\"text-align: right;\">\n",
       "      <th></th>\n",
       "      <th>Name</th>\n",
       "      <th>Author</th>\n",
       "      <th>User Rating</th>\n",
       "      <th>Reviews</th>\n",
       "      <th>Price</th>\n",
       "      <th>Year</th>\n",
       "      <th>Genre</th>\n",
       "      <th>Weighted Rating</th>\n",
       "    </tr>\n",
       "  </thead>\n",
       "  <tbody>\n",
       "    <tr>\n",
       "      <th>0</th>\n",
       "      <td>10-Day Green Smoothie Cleanse</td>\n",
       "      <td>JJ Smith</td>\n",
       "      <td>4.7</td>\n",
       "      <td>17350</td>\n",
       "      <td>8</td>\n",
       "      <td>2016</td>\n",
       "      <td>Non Fiction</td>\n",
       "      <td>4.699826</td>\n",
       "    </tr>\n",
       "    <tr>\n",
       "      <th>1</th>\n",
       "      <td>11/22/63: A Novel</td>\n",
       "      <td>Stephen King</td>\n",
       "      <td>4.6</td>\n",
       "      <td>2052</td>\n",
       "      <td>22</td>\n",
       "      <td>2011</td>\n",
       "      <td>Fiction</td>\n",
       "      <td>4.600325</td>\n",
       "    </tr>\n",
       "    <tr>\n",
       "      <th>2</th>\n",
       "      <td>12 Rules for Life: An Antidote to Chaos</td>\n",
       "      <td>Jordan B. Peterson</td>\n",
       "      <td>4.7</td>\n",
       "      <td>18979</td>\n",
       "      <td>15</td>\n",
       "      <td>2018</td>\n",
       "      <td>Non Fiction</td>\n",
       "      <td>4.699841</td>\n",
       "    </tr>\n",
       "    <tr>\n",
       "      <th>3</th>\n",
       "      <td>1984 (Signet Classics)</td>\n",
       "      <td>George Orwell</td>\n",
       "      <td>4.7</td>\n",
       "      <td>21424</td>\n",
       "      <td>6</td>\n",
       "      <td>2017</td>\n",
       "      <td>Fiction</td>\n",
       "      <td>4.699859</td>\n",
       "    </tr>\n",
       "    <tr>\n",
       "      <th>4</th>\n",
       "      <td>5,000 Awesome Facts (About Everything!) (Natio...</td>\n",
       "      <td>National Geographic Kids</td>\n",
       "      <td>4.8</td>\n",
       "      <td>7665</td>\n",
       "      <td>12</td>\n",
       "      <td>2019</td>\n",
       "      <td>Non Fiction</td>\n",
       "      <td>4.799127</td>\n",
       "    </tr>\n",
       "  </tbody>\n",
       "</table>\n",
       "</div>"
      ],
      "text/plain": [
       "                                                Name  \\\n",
       "0                      10-Day Green Smoothie Cleanse   \n",
       "1                                  11/22/63: A Novel   \n",
       "2            12 Rules for Life: An Antidote to Chaos   \n",
       "3                             1984 (Signet Classics)   \n",
       "4  5,000 Awesome Facts (About Everything!) (Natio...   \n",
       "\n",
       "                     Author  User Rating  Reviews  Price  Year        Genre  \\\n",
       "0                  JJ Smith          4.7    17350      8  2016  Non Fiction   \n",
       "1              Stephen King          4.6     2052     22  2011      Fiction   \n",
       "2        Jordan B. Peterson          4.7    18979     15  2018  Non Fiction   \n",
       "3             George Orwell          4.7    21424      6  2017      Fiction   \n",
       "4  National Geographic Kids          4.8     7665     12  2019  Non Fiction   \n",
       "\n",
       "   Weighted Rating  \n",
       "0         4.699826  \n",
       "1         4.600325  \n",
       "2         4.699841  \n",
       "3         4.699859  \n",
       "4         4.799127  "
      ]
     },
     "execution_count": 10,
     "metadata": {},
     "output_type": "execute_result"
    }
   ],
   "source": [
    "df['Weighted Rating'] = df.apply(lambda x: getWeightedRating(x), axis=1)\n",
    "\n",
    "df.head()"
   ]
  },
  {
   "cell_type": "code",
   "execution_count": 13,
   "id": "hungry-colors",
   "metadata": {},
   "outputs": [
    {
     "data": {
      "image/png": "[encoded data removed]",
      "text/plain": [
       "<Figure size 432x288 with 1 Axes>"
      ]
     },
     "metadata": {},
     "output_type": "display_data"
    }
   ],
   "source": [
    "makeDistribution(df['Weighted Rating'])"
   ]
  },
  {
   "cell_type": "markdown",
   "id": "substantial-saver",
   "metadata": {},
   "source": [
    "Distribusi _Weighted Rating_ memiliki bentuk yang hampir sama seperti _User Rating_."
   ]
  },
  {
   "cell_type": "code",
   "execution_count": 14,
   "id": "municipal-strip",
   "metadata": {},
   "outputs": [
    {
     "data": {
      "text/plain": [
       "<AxesSubplot:xlabel='Year', ylabel='Weighted Rating'>"
      ]
     },
     "execution_count": 14,
     "metadata": {},
     "output_type": "execute_result"
    },
    {
     "data": {
      "image/png": "[encoded data removed]",
      "text/plain": [
       "<Figure size 432x288 with 1 Axes>"
      ]
     },
     "metadata": {},
     "output_type": "display_data"
    }
   ],
   "source": [
    "sns.lineplot(data=df, x='Year', y='Weighted Rating', ci=False)"
   ]
  },
  {
   "cell_type": "markdown",
   "id": "immediate-instruction",
   "metadata": {},
   "source": [
    "Nilai _Weighted Rating_ pada 50 buku _bestselling_ cenderung naik selama tahun 2009 - 2019. "
   ]
  },
  {
   "cell_type": "markdown",
   "id": "alternate-recognition",
   "metadata": {},
   "source": [
    "### Analisa Genre"
   ]
  },
  {
   "cell_type": "markdown",
   "id": "variable-township",
   "metadata": {},
   "source": [
    "Genre / jenis buku pada dataset ini hanya dibagi menjadi dua jenis, yaitu Non Fiction / Nonfiksi dengan Fiction / Fiksi."
   ]
  },
  {
   "cell_type": "code",
   "execution_count": 15,
   "id": "monetary-wyoming",
   "metadata": {},
   "outputs": [
    {
     "data": {
      "text/plain": [
       "0      Non Fiction\n",
       "1          Fiction\n",
       "2      Non Fiction\n",
       "3          Fiction\n",
       "4      Non Fiction\n",
       "          ...     \n",
       "545        Fiction\n",
       "546    Non Fiction\n",
       "547    Non Fiction\n",
       "548    Non Fiction\n",
       "549    Non Fiction\n",
       "Name: Genre, Length: 550, dtype: object"
      ]
     },
     "execution_count": 15,
     "metadata": {},
     "output_type": "execute_result"
    }
   ],
   "source": [
    "df['Genre']"
   ]
  },
  {
   "cell_type": "code",
   "execution_count": 16,
   "id": "independent-investment",
   "metadata": {},
   "outputs": [
    {
     "data": {
      "text/plain": [
       "<AxesSubplot:xlabel='Genre', ylabel='count'>"
      ]
     },
     "execution_count": 16,
     "metadata": {},
     "output_type": "execute_result"
    },
    {
     "data": {
      "image/png": "[encoded data removed]",
      "text/plain": [
       "<Figure size 432x288 with 1 Axes>"
      ]
     },
     "metadata": {},
     "output_type": "display_data"
    }
   ],
   "source": [
    "sns.countplot(x=df['Genre'])"
   ]
  },
  {
   "cell_type": "markdown",
   "id": "automated-accident",
   "metadata": {},
   "source": [
    "Genre nonfiksi lebih banyak masuk ke dalam 50 buku bestselling daripada genre fiksi selama tahun 2009 - 2019."
   ]
  },
  {
   "cell_type": "code",
   "execution_count": 17,
   "id": "romantic-civilization",
   "metadata": {},
   "outputs": [
    {
     "data": {
      "text/plain": [
       "<AxesSubplot:xlabel='Year'>"
      ]
     },
     "execution_count": 17,
     "metadata": {},
     "output_type": "execute_result"
    },
    {
     "data": {
      "image/png": "[encoded data removed]",
      "text/plain": [
       "<Figure size 432x288 with 1 Axes>"
      ]
     },
     "metadata": {},
     "output_type": "display_data"
    }
   ],
   "source": [
    "fiction_count = df[df['Genre'] == 'Fiction'].groupby('Year').size()\n",
    "nonfiction_count = df[df['Genre'] == 'Non Fiction'].groupby('Year').size()\n",
    "\n",
    "count_total = pd.DataFrame([fiction_count, nonfiction_count]).transpose()\n",
    "count_total.columns = ['Fiction', 'Non Fiction']\n",
    "\n",
    "count_total.plot()"
   ]
  },
  {
   "cell_type": "markdown",
   "id": "mighty-guard",
   "metadata": {},
   "source": [
    "Selama tahun 2009 - 2019, buku dengan genre nonfiksi selalu lebih banyak masuk ke dalam 50 buku bestselling daripada buku fiksi. Namun pada tahun 2014, genre fiksi sempat menyaingi genre nonfiksi."
   ]
  },
  {
   "cell_type": "code",
   "execution_count": 18,
   "id": "nasty-robinson",
   "metadata": {},
   "outputs": [
    {
     "data": {
      "text/plain": [
       "<AxesSubplot:xlabel='Genre', ylabel='Weighted Rating'>"
      ]
     },
     "execution_count": 18,
     "metadata": {},
     "output_type": "execute_result"
    },
    {
     "data": {
      "image/png": "[encoded data removed]",
      "text/plain": [
       "<Figure size 432x288 with 1 Axes>"
      ]
     },
     "metadata": {},
     "output_type": "display_data"
    }
   ],
   "source": [
    "sns.barplot(data=df, x='Genre', y='Weighted Rating')"
   ]
  },
  {
   "cell_type": "markdown",
   "id": "combined-electricity",
   "metadata": {},
   "source": [
    "Kedua genre memiliki rata-rata nilai yang cenderung sama."
   ]
  },
  {
   "cell_type": "code",
   "execution_count": 19,
   "id": "induced-raising",
   "metadata": {},
   "outputs": [
    {
     "data": {
      "text/plain": [
       "<AxesSubplot:xlabel='Year', ylabel='Weighted Rating'>"
      ]
     },
     "execution_count": 19,
     "metadata": {},
     "output_type": "execute_result"
    },
    {
     "data": {
      "image/png": "[encoded data removed]",
      "text/plain": [
       "<Figure size 432x288 with 1 Axes>"
      ]
     },
     "metadata": {},
     "output_type": "display_data"
    }
   ],
   "source": [
    "sns.lineplot(data=df, x='Year', y='Weighted Rating', hue='Genre', ci=False)"
   ]
  },
  {
   "cell_type": "markdown",
   "id": "annual-colony",
   "metadata": {},
   "source": [
    "50 buku bestselling ber-genre fiksi setiap tahunnya memiliki nilai yang lebih tinggi daripada nonfiksi kecuali pada tahun 2012."
   ]
  },
  {
   "cell_type": "markdown",
   "id": "corporate-negotiation",
   "metadata": {},
   "source": [
    "### Analisa Harga"
   ]
  },
  {
   "cell_type": "markdown",
   "id": "technical-genre",
   "metadata": {},
   "source": [
    "Harga pada dataset ini dicantumkan pada variabel bernama _Price_. Harga dinyatakan dalam kurs dollar USD."
   ]
  },
  {
   "cell_type": "code",
   "execution_count": 20,
   "id": "saved-craps",
   "metadata": {},
   "outputs": [
    {
     "data": {
      "image/png": "[encoded data removed]",
      "text/plain": [
       "<Figure size 432x288 with 1 Axes>"
      ]
     },
     "metadata": {},
     "output_type": "display_data"
    }
   ],
   "source": [
    "makeDistribution(df['Price'])"
   ]
  },
  {
   "cell_type": "markdown",
   "id": "brilliant-upgrade",
   "metadata": {},
   "source": [
    "Dapat dilihat pada distribusi di atas, harga buku kebanyakan berkisar di bawah 20 dollar."
   ]
  },
  {
   "cell_type": "code",
   "execution_count": 21,
   "id": "physical-impact",
   "metadata": {},
   "outputs": [
    {
     "data": {
      "text/plain": [
       "<AxesSubplot:xlabel='Year', ylabel='Price'>"
      ]
     },
     "execution_count": 21,
     "metadata": {},
     "output_type": "execute_result"
    },
    {
     "data": {
      "image/png": "[encoded data removed]",
      "text/plain": [
       "<Figure size 432x288 with 1 Axes>"
      ]
     },
     "metadata": {},
     "output_type": "display_data"
    }
   ],
   "source": [
    "sns.lineplot(data=df, x='Year', y='Price')"
   ]
  },
  {
   "cell_type": "markdown",
   "id": "experimental-tower",
   "metadata": {},
   "source": [
    "Harga 50 buku _bestselling_ memiliki kecenderungan turun tiap tahunnya."
   ]
  },
  {
   "cell_type": "code",
   "execution_count": 22,
   "id": "blocked-romania",
   "metadata": {},
   "outputs": [
    {
     "data": {
      "text/plain": [
       "<AxesSubplot:xlabel='Genre', ylabel='Price'>"
      ]
     },
     "execution_count": 22,
     "metadata": {},
     "output_type": "execute_result"
    },
    {
     "data": {
      "image/png": "[encoded data removed]",
      "text/plain": [
       "<Figure size 432x288 with 1 Axes>"
      ]
     },
     "metadata": {},
     "output_type": "display_data"
    }
   ],
   "source": [
    "sns.barplot(data=df, x='Genre', y='Price')"
   ]
  },
  {
   "cell_type": "markdown",
   "id": "preceding-planet",
   "metadata": {},
   "source": [
    "Harga buku nonfiksi rata-rata lebih mahal daripada buku fiksi."
   ]
  },
  {
   "cell_type": "code",
   "execution_count": 23,
   "id": "streaming-auction",
   "metadata": {},
   "outputs": [
    {
     "data": {
      "text/plain": [
       "<AxesSubplot:xlabel='Year', ylabel='Price'>"
      ]
     },
     "execution_count": 23,
     "metadata": {},
     "output_type": "execute_result"
    },
    {
     "data": {
      "image/png": "[encoded data removed]",
      "text/plain": [
       "<Figure size 432x288 with 1 Axes>"
      ]
     },
     "metadata": {},
     "output_type": "display_data"
    }
   ],
   "source": [
    "sns.lineplot(data=df, x='Year', y='Price', hue='Genre')"
   ]
  },
  {
   "cell_type": "markdown",
   "id": "moving-hampton",
   "metadata": {},
   "source": [
    "Setiap tahunnya juga rata-rata harga buku nonfiksi konsisten lebih mahal daripada genre fiksi."
   ]
  },
  {
   "cell_type": "markdown",
   "id": "economic-sharp",
   "metadata": {},
   "source": [
    "#### Buku apa yang paling mahal?"
   ]
  },
  {
   "cell_type": "code",
   "execution_count": 24,
   "id": "portuguese-cassette",
   "metadata": {},
   "outputs": [
    {
     "data": {
      "text/plain": [
       "count    550.000000\n",
       "mean      13.100000\n",
       "std       10.842262\n",
       "min        0.000000\n",
       "25%        7.000000\n",
       "50%       11.000000\n",
       "75%       16.000000\n",
       "max      105.000000\n",
       "Name: Price, dtype: float64"
      ]
     },
     "execution_count": 24,
     "metadata": {},
     "output_type": "execute_result"
    }
   ],
   "source": [
    "df['Price'].describe()"
   ]
  },
  {
   "cell_type": "markdown",
   "id": "removed-painting",
   "metadata": {},
   "source": [
    "Harga maksimal buku bestselling ini ialah 105 dollar. Harga minimum ialah 0. Dapat diasumsikan bahwa buku dengan harga 0 ini stoknya habis atau tidak lagi dijual."
   ]
  },
  {
   "cell_type": "code",
   "execution_count": 40,
   "id": "solid-penalty",
   "metadata": {},
   "outputs": [
    {
     "data": {
      "text/html": [
       "<div>\n",
       "<style scoped>\n",
       "    .dataframe tbody tr th:only-of-type {\n",
       "        vertical-align: middle;\n",
       "    }\n",
       "\n",
       "    .dataframe tbody tr th {\n",
       "        vertical-align: top;\n",
       "    }\n",
       "\n",
       "    .dataframe thead th {\n",
       "        text-align: right;\n",
       "    }\n",
       "</style>\n",
       "<table border=\"1\" class=\"dataframe\">\n",
       "  <thead>\n",
       "    <tr style=\"text-align: right;\">\n",
       "      <th></th>\n",
       "      <th>Name</th>\n",
       "      <th>Author</th>\n",
       "      <th>User Rating</th>\n",
       "      <th>Reviews</th>\n",
       "      <th>Price</th>\n",
       "      <th>Year</th>\n",
       "      <th>Genre</th>\n",
       "      <th>Weighted Rating</th>\n",
       "    </tr>\n",
       "  </thead>\n",
       "  <tbody>\n",
       "    <tr>\n",
       "      <th>69</th>\n",
       "      <td>Diagnostic and Statistical Manual of Mental Di...</td>\n",
       "      <td>American Psychiatric Association</td>\n",
       "      <td>4.5</td>\n",
       "      <td>6679</td>\n",
       "      <td>105</td>\n",
       "      <td>2013</td>\n",
       "      <td>Non Fiction</td>\n",
       "      <td>4.500652</td>\n",
       "    </tr>\n",
       "    <tr>\n",
       "      <th>70</th>\n",
       "      <td>Diagnostic and Statistical Manual of Mental Di...</td>\n",
       "      <td>American Psychiatric Association</td>\n",
       "      <td>4.5</td>\n",
       "      <td>6679</td>\n",
       "      <td>105</td>\n",
       "      <td>2014</td>\n",
       "      <td>Non Fiction</td>\n",
       "      <td>4.500652</td>\n",
       "    </tr>\n",
       "  </tbody>\n",
       "</table>\n",
       "</div>"
      ],
      "text/plain": [
       "                                                 Name  \\\n",
       "69  Diagnostic and Statistical Manual of Mental Di...   \n",
       "70  Diagnostic and Statistical Manual of Mental Di...   \n",
       "\n",
       "                              Author  User Rating  Reviews  Price  Year  \\\n",
       "69  American Psychiatric Association          4.5     6679    105  2013   \n",
       "70  American Psychiatric Association          4.5     6679    105  2014   \n",
       "\n",
       "          Genre  Weighted Rating  \n",
       "69  Non Fiction         4.500652  \n",
       "70  Non Fiction         4.500652  "
      ]
     },
     "execution_count": 40,
     "metadata": {},
     "output_type": "execute_result"
    }
   ],
   "source": [
    "df[df['Price'] == df['Price'].max()]"
   ]
  },
  {
   "cell_type": "markdown",
   "id": "tracked-villa",
   "metadata": {},
   "source": [
    "Buku bestselling dengan harga termahal yaitu __\"Diagnostic and Statistical Manual of Mental Disorders, 5th Edition: DSM-5\"__."
   ]
  },
  {
   "cell_type": "markdown",
   "id": "thirty-geneva",
   "metadata": {},
   "source": [
    "### Buku Terbaik"
   ]
  },
  {
   "cell_type": "markdown",
   "id": "middle-mauritius",
   "metadata": {},
   "source": [
    "Karena dataset ini memiliki variabel yang terbatas, cara termudah untuk menentukan buku terbaik ialah dengan melihat _weighted rating_-nya."
   ]
  },
  {
   "cell_type": "markdown",
   "id": "stretch-cooking",
   "metadata": {},
   "source": [
    "Dataset akan dibagi terlebih dahulu menjadi dataset dengan buku fiksi dan nonfiksi."
   ]
  },
  {
   "cell_type": "code",
   "execution_count": 26,
   "id": "crucial-investing",
   "metadata": {},
   "outputs": [],
   "source": [
    "df_fiction = df[df['Genre'] == 'Fiction']\n",
    "df_nonfiction = df[df['Genre'] == 'Non Fiction']"
   ]
  },
  {
   "cell_type": "code",
   "execution_count": 27,
   "id": "adverse-superintendent",
   "metadata": {},
   "outputs": [
    {
     "data": {
      "text/html": [
       "<div>\n",
       "<style scoped>\n",
       "    .dataframe tbody tr th:only-of-type {\n",
       "        vertical-align: middle;\n",
       "    }\n",
       "\n",
       "    .dataframe tbody tr th {\n",
       "        vertical-align: top;\n",
       "    }\n",
       "\n",
       "    .dataframe thead th {\n",
       "        text-align: right;\n",
       "    }\n",
       "</style>\n",
       "<table border=\"1\" class=\"dataframe\">\n",
       "  <thead>\n",
       "    <tr style=\"text-align: right;\">\n",
       "      <th></th>\n",
       "      <th>Name</th>\n",
       "      <th>Author</th>\n",
       "      <th>User Rating</th>\n",
       "      <th>Reviews</th>\n",
       "      <th>Price</th>\n",
       "      <th>Year</th>\n",
       "      <th>Genre</th>\n",
       "      <th>Weighted Rating</th>\n",
       "    </tr>\n",
       "  </thead>\n",
       "  <tbody>\n",
       "    <tr>\n",
       "      <th>245</th>\n",
       "      <td>Oh, the Places You'll Go!</td>\n",
       "      <td>Dr. Seuss</td>\n",
       "      <td>4.9</td>\n",
       "      <td>21834</td>\n",
       "      <td>8</td>\n",
       "      <td>2012</td>\n",
       "      <td>Fiction</td>\n",
       "      <td>4.899524</td>\n",
       "    </tr>\n",
       "    <tr>\n",
       "      <th>246</th>\n",
       "      <td>Oh, the Places You'll Go!</td>\n",
       "      <td>Dr. Seuss</td>\n",
       "      <td>4.9</td>\n",
       "      <td>21834</td>\n",
       "      <td>8</td>\n",
       "      <td>2013</td>\n",
       "      <td>Fiction</td>\n",
       "      <td>4.899524</td>\n",
       "    </tr>\n",
       "    <tr>\n",
       "      <th>247</th>\n",
       "      <td>Oh, the Places You'll Go!</td>\n",
       "      <td>Dr. Seuss</td>\n",
       "      <td>4.9</td>\n",
       "      <td>21834</td>\n",
       "      <td>8</td>\n",
       "      <td>2014</td>\n",
       "      <td>Fiction</td>\n",
       "      <td>4.899524</td>\n",
       "    </tr>\n",
       "    <tr>\n",
       "      <th>248</th>\n",
       "      <td>Oh, the Places You'll Go!</td>\n",
       "      <td>Dr. Seuss</td>\n",
       "      <td>4.9</td>\n",
       "      <td>21834</td>\n",
       "      <td>8</td>\n",
       "      <td>2015</td>\n",
       "      <td>Fiction</td>\n",
       "      <td>4.899524</td>\n",
       "    </tr>\n",
       "    <tr>\n",
       "      <th>249</th>\n",
       "      <td>Oh, the Places You'll Go!</td>\n",
       "      <td>Dr. Seuss</td>\n",
       "      <td>4.9</td>\n",
       "      <td>21834</td>\n",
       "      <td>8</td>\n",
       "      <td>2016</td>\n",
       "      <td>Fiction</td>\n",
       "      <td>4.899524</td>\n",
       "    </tr>\n",
       "    <tr>\n",
       "      <th>250</th>\n",
       "      <td>Oh, the Places You'll Go!</td>\n",
       "      <td>Dr. Seuss</td>\n",
       "      <td>4.9</td>\n",
       "      <td>21834</td>\n",
       "      <td>8</td>\n",
       "      <td>2017</td>\n",
       "      <td>Fiction</td>\n",
       "      <td>4.899524</td>\n",
       "    </tr>\n",
       "    <tr>\n",
       "      <th>251</th>\n",
       "      <td>Oh, the Places You'll Go!</td>\n",
       "      <td>Dr. Seuss</td>\n",
       "      <td>4.9</td>\n",
       "      <td>21834</td>\n",
       "      <td>8</td>\n",
       "      <td>2018</td>\n",
       "      <td>Fiction</td>\n",
       "      <td>4.899524</td>\n",
       "    </tr>\n",
       "    <tr>\n",
       "      <th>252</th>\n",
       "      <td>Oh, the Places You'll Go!</td>\n",
       "      <td>Dr. Seuss</td>\n",
       "      <td>4.9</td>\n",
       "      <td>21834</td>\n",
       "      <td>8</td>\n",
       "      <td>2019</td>\n",
       "      <td>Fiction</td>\n",
       "      <td>4.899524</td>\n",
       "    </tr>\n",
       "  </tbody>\n",
       "</table>\n",
       "</div>"
      ],
      "text/plain": [
       "                          Name     Author  User Rating  Reviews  Price  Year  \\\n",
       "245  Oh, the Places You'll Go!  Dr. Seuss          4.9    21834      8  2012   \n",
       "246  Oh, the Places You'll Go!  Dr. Seuss          4.9    21834      8  2013   \n",
       "247  Oh, the Places You'll Go!  Dr. Seuss          4.9    21834      8  2014   \n",
       "248  Oh, the Places You'll Go!  Dr. Seuss          4.9    21834      8  2015   \n",
       "249  Oh, the Places You'll Go!  Dr. Seuss          4.9    21834      8  2016   \n",
       "250  Oh, the Places You'll Go!  Dr. Seuss          4.9    21834      8  2017   \n",
       "251  Oh, the Places You'll Go!  Dr. Seuss          4.9    21834      8  2018   \n",
       "252  Oh, the Places You'll Go!  Dr. Seuss          4.9    21834      8  2019   \n",
       "\n",
       "       Genre  Weighted Rating  \n",
       "245  Fiction         4.899524  \n",
       "246  Fiction         4.899524  \n",
       "247  Fiction         4.899524  \n",
       "248  Fiction         4.899524  \n",
       "249  Fiction         4.899524  \n",
       "250  Fiction         4.899524  \n",
       "251  Fiction         4.899524  \n",
       "252  Fiction         4.899524  "
      ]
     },
     "execution_count": 27,
     "metadata": {},
     "output_type": "execute_result"
    }
   ],
   "source": [
    "df[df['Weighted Rating'] == df['Weighted Rating'].max()]"
   ]
  },
  {
   "cell_type": "markdown",
   "id": "italic-honey",
   "metadata": {},
   "source": [
    "Jika dilihat dari _weighted rating_-nya, buku bernama __\"Oh, the Places You'll Go!\"__ menempati posisi pertama dengan nilai _Weighted Rating_ sebessar 4.89952. Buku ini merupakan buku fiksi karangan Dr. Seuss. Buku ini juga konsisten masuk ke dalam 50 buku bestselling selama tahun 2012 hingga 2019."
   ]
  },
  {
   "cell_type": "markdown",
   "id": "acoustic-pathology",
   "metadata": {},
   "source": [
    "Lalu saya juga akan mencari buku terbaik untuk tiap tahunnya."
   ]
  },
  {
   "cell_type": "code",
   "execution_count": 42,
   "id": "excess-proxy",
   "metadata": {},
   "outputs": [
    {
     "data": {
      "text/html": [
       "<div>\n",
       "<style scoped>\n",
       "    .dataframe tbody tr th:only-of-type {\n",
       "        vertical-align: middle;\n",
       "    }\n",
       "\n",
       "    .dataframe tbody tr th {\n",
       "        vertical-align: top;\n",
       "    }\n",
       "\n",
       "    .dataframe thead th {\n",
       "        text-align: right;\n",
       "    }\n",
       "</style>\n",
       "<table border=\"1\" class=\"dataframe\">\n",
       "  <thead>\n",
       "    <tr style=\"text-align: right;\">\n",
       "      <th></th>\n",
       "      <th>Name</th>\n",
       "      <th>Author</th>\n",
       "      <th>User Rating</th>\n",
       "      <th>Reviews</th>\n",
       "      <th>Price</th>\n",
       "      <th>Year</th>\n",
       "      <th>Genre</th>\n",
       "      <th>Weighted Rating</th>\n",
       "    </tr>\n",
       "  </thead>\n",
       "  <tbody>\n",
       "    <tr>\n",
       "      <th>402</th>\n",
       "      <td>The Help</td>\n",
       "      <td>Kathryn Stockett</td>\n",
       "      <td>4.8</td>\n",
       "      <td>13871</td>\n",
       "      <td>6</td>\n",
       "      <td>2009</td>\n",
       "      <td>Fiction</td>\n",
       "      <td>4.799517</td>\n",
       "    </tr>\n",
       "    <tr>\n",
       "      <th>515</th>\n",
       "      <td>Unbroken: A World War II Story of Survival, Re...</td>\n",
       "      <td>Laura Hillenbrand</td>\n",
       "      <td>4.8</td>\n",
       "      <td>29673</td>\n",
       "      <td>16</td>\n",
       "      <td>2010</td>\n",
       "      <td>Non Fiction</td>\n",
       "      <td>4.799774</td>\n",
       "    </tr>\n",
       "    <tr>\n",
       "      <th>187</th>\n",
       "      <td>Jesus Calling: Enjoying Peace in His Presence ...</td>\n",
       "      <td>Sarah Young</td>\n",
       "      <td>4.9</td>\n",
       "      <td>19576</td>\n",
       "      <td>8</td>\n",
       "      <td>2011</td>\n",
       "      <td>Non Fiction</td>\n",
       "      <td>4.899469</td>\n",
       "    </tr>\n",
       "    <tr>\n",
       "      <th>245</th>\n",
       "      <td>Oh, the Places You'll Go!</td>\n",
       "      <td>Dr. Seuss</td>\n",
       "      <td>4.9</td>\n",
       "      <td>21834</td>\n",
       "      <td>8</td>\n",
       "      <td>2012</td>\n",
       "      <td>Fiction</td>\n",
       "      <td>4.899524</td>\n",
       "    </tr>\n",
       "    <tr>\n",
       "      <th>246</th>\n",
       "      <td>Oh, the Places You'll Go!</td>\n",
       "      <td>Dr. Seuss</td>\n",
       "      <td>4.9</td>\n",
       "      <td>21834</td>\n",
       "      <td>8</td>\n",
       "      <td>2013</td>\n",
       "      <td>Fiction</td>\n",
       "      <td>4.899524</td>\n",
       "    </tr>\n",
       "    <tr>\n",
       "      <th>247</th>\n",
       "      <td>Oh, the Places You'll Go!</td>\n",
       "      <td>Dr. Seuss</td>\n",
       "      <td>4.9</td>\n",
       "      <td>21834</td>\n",
       "      <td>8</td>\n",
       "      <td>2014</td>\n",
       "      <td>Fiction</td>\n",
       "      <td>4.899524</td>\n",
       "    </tr>\n",
       "    <tr>\n",
       "      <th>248</th>\n",
       "      <td>Oh, the Places You'll Go!</td>\n",
       "      <td>Dr. Seuss</td>\n",
       "      <td>4.9</td>\n",
       "      <td>21834</td>\n",
       "      <td>8</td>\n",
       "      <td>2015</td>\n",
       "      <td>Fiction</td>\n",
       "      <td>4.899524</td>\n",
       "    </tr>\n",
       "    <tr>\n",
       "      <th>249</th>\n",
       "      <td>Oh, the Places You'll Go!</td>\n",
       "      <td>Dr. Seuss</td>\n",
       "      <td>4.9</td>\n",
       "      <td>21834</td>\n",
       "      <td>8</td>\n",
       "      <td>2016</td>\n",
       "      <td>Fiction</td>\n",
       "      <td>4.899524</td>\n",
       "    </tr>\n",
       "    <tr>\n",
       "      <th>250</th>\n",
       "      <td>Oh, the Places You'll Go!</td>\n",
       "      <td>Dr. Seuss</td>\n",
       "      <td>4.9</td>\n",
       "      <td>21834</td>\n",
       "      <td>8</td>\n",
       "      <td>2017</td>\n",
       "      <td>Fiction</td>\n",
       "      <td>4.899524</td>\n",
       "    </tr>\n",
       "    <tr>\n",
       "      <th>251</th>\n",
       "      <td>Oh, the Places You'll Go!</td>\n",
       "      <td>Dr. Seuss</td>\n",
       "      <td>4.9</td>\n",
       "      <td>21834</td>\n",
       "      <td>8</td>\n",
       "      <td>2018</td>\n",
       "      <td>Fiction</td>\n",
       "      <td>4.899524</td>\n",
       "    </tr>\n",
       "    <tr>\n",
       "      <th>252</th>\n",
       "      <td>Oh, the Places You'll Go!</td>\n",
       "      <td>Dr. Seuss</td>\n",
       "      <td>4.9</td>\n",
       "      <td>21834</td>\n",
       "      <td>8</td>\n",
       "      <td>2019</td>\n",
       "      <td>Fiction</td>\n",
       "      <td>4.899524</td>\n",
       "    </tr>\n",
       "  </tbody>\n",
       "</table>\n",
       "</div>"
      ],
      "text/plain": [
       "                                                  Name             Author  \\\n",
       "402                                           The Help   Kathryn Stockett   \n",
       "515  Unbroken: A World War II Story of Survival, Re...  Laura Hillenbrand   \n",
       "187  Jesus Calling: Enjoying Peace in His Presence ...        Sarah Young   \n",
       "245                          Oh, the Places You'll Go!          Dr. Seuss   \n",
       "246                          Oh, the Places You'll Go!          Dr. Seuss   \n",
       "247                          Oh, the Places You'll Go!          Dr. Seuss   \n",
       "248                          Oh, the Places You'll Go!          Dr. Seuss   \n",
       "249                          Oh, the Places You'll Go!          Dr. Seuss   \n",
       "250                          Oh, the Places You'll Go!          Dr. Seuss   \n",
       "251                          Oh, the Places You'll Go!          Dr. Seuss   \n",
       "252                          Oh, the Places You'll Go!          Dr. Seuss   \n",
       "\n",
       "     User Rating  Reviews  Price  Year        Genre  Weighted Rating  \n",
       "402          4.8    13871      6  2009      Fiction         4.799517  \n",
       "515          4.8    29673     16  2010  Non Fiction         4.799774  \n",
       "187          4.9    19576      8  2011  Non Fiction         4.899469  \n",
       "245          4.9    21834      8  2012      Fiction         4.899524  \n",
       "246          4.9    21834      8  2013      Fiction         4.899524  \n",
       "247          4.9    21834      8  2014      Fiction         4.899524  \n",
       "248          4.9    21834      8  2015      Fiction         4.899524  \n",
       "249          4.9    21834      8  2016      Fiction         4.899524  \n",
       "250          4.9    21834      8  2017      Fiction         4.899524  \n",
       "251          4.9    21834      8  2018      Fiction         4.899524  \n",
       "252          4.9    21834      8  2019      Fiction         4.899524  "
      ]
     },
     "execution_count": 42,
     "metadata": {},
     "output_type": "execute_result"
    }
   ],
   "source": [
    "best = []\n",
    "for i in range(2009, 2020):\n",
    "    temp = df[df['Year'] == i]\n",
    "    best.append(temp[temp['Weighted Rating'] == temp['Weighted Rating'].max()])\n",
    "    \n",
    "pd.concat(best, axis=0)"
   ]
  },
  {
   "cell_type": "markdown",
   "id": "piano-working",
   "metadata": {},
   "source": [
    "Buku karangan Dr. Seuss selalu menduduki posisi pertama selama tahun 2012 hingga 2019. Sebelum itu, ada 3 buku yang menduduki posisi pertama tiap tahunnya, dua di antaranya merupakan buku nonfiksi."
   ]
  },
  {
   "cell_type": "markdown",
   "id": "duplicate-studio",
   "metadata": {},
   "source": [
    "Selanjutnya saya akan mencari buku terbaik untuk kategori nonfiksi."
   ]
  },
  {
   "cell_type": "code",
   "execution_count": 28,
   "id": "essential-telephone",
   "metadata": {},
   "outputs": [
    {
     "data": {
      "text/html": [
       "<div>\n",
       "<style scoped>\n",
       "    .dataframe tbody tr th:only-of-type {\n",
       "        vertical-align: middle;\n",
       "    }\n",
       "\n",
       "    .dataframe tbody tr th {\n",
       "        vertical-align: top;\n",
       "    }\n",
       "\n",
       "    .dataframe thead th {\n",
       "        text-align: right;\n",
       "    }\n",
       "</style>\n",
       "<table border=\"1\" class=\"dataframe\">\n",
       "  <thead>\n",
       "    <tr style=\"text-align: right;\">\n",
       "      <th></th>\n",
       "      <th>Name</th>\n",
       "      <th>Author</th>\n",
       "      <th>User Rating</th>\n",
       "      <th>Reviews</th>\n",
       "      <th>Price</th>\n",
       "      <th>Year</th>\n",
       "      <th>Genre</th>\n",
       "      <th>Weighted Rating</th>\n",
       "    </tr>\n",
       "  </thead>\n",
       "  <tbody>\n",
       "    <tr>\n",
       "      <th>187</th>\n",
       "      <td>Jesus Calling: Enjoying Peace in His Presence ...</td>\n",
       "      <td>Sarah Young</td>\n",
       "      <td>4.9</td>\n",
       "      <td>19576</td>\n",
       "      <td>8</td>\n",
       "      <td>2011</td>\n",
       "      <td>Non Fiction</td>\n",
       "      <td>4.899469</td>\n",
       "    </tr>\n",
       "    <tr>\n",
       "      <th>188</th>\n",
       "      <td>Jesus Calling: Enjoying Peace in His Presence ...</td>\n",
       "      <td>Sarah Young</td>\n",
       "      <td>4.9</td>\n",
       "      <td>19576</td>\n",
       "      <td>8</td>\n",
       "      <td>2012</td>\n",
       "      <td>Non Fiction</td>\n",
       "      <td>4.899469</td>\n",
       "    </tr>\n",
       "    <tr>\n",
       "      <th>189</th>\n",
       "      <td>Jesus Calling: Enjoying Peace in His Presence ...</td>\n",
       "      <td>Sarah Young</td>\n",
       "      <td>4.9</td>\n",
       "      <td>19576</td>\n",
       "      <td>8</td>\n",
       "      <td>2013</td>\n",
       "      <td>Non Fiction</td>\n",
       "      <td>4.899469</td>\n",
       "    </tr>\n",
       "    <tr>\n",
       "      <th>190</th>\n",
       "      <td>Jesus Calling: Enjoying Peace in His Presence ...</td>\n",
       "      <td>Sarah Young</td>\n",
       "      <td>4.9</td>\n",
       "      <td>19576</td>\n",
       "      <td>8</td>\n",
       "      <td>2014</td>\n",
       "      <td>Non Fiction</td>\n",
       "      <td>4.899469</td>\n",
       "    </tr>\n",
       "    <tr>\n",
       "      <th>191</th>\n",
       "      <td>Jesus Calling: Enjoying Peace in His Presence ...</td>\n",
       "      <td>Sarah Young</td>\n",
       "      <td>4.9</td>\n",
       "      <td>19576</td>\n",
       "      <td>8</td>\n",
       "      <td>2015</td>\n",
       "      <td>Non Fiction</td>\n",
       "      <td>4.899469</td>\n",
       "    </tr>\n",
       "    <tr>\n",
       "      <th>192</th>\n",
       "      <td>Jesus Calling: Enjoying Peace in His Presence ...</td>\n",
       "      <td>Sarah Young</td>\n",
       "      <td>4.9</td>\n",
       "      <td>19576</td>\n",
       "      <td>8</td>\n",
       "      <td>2016</td>\n",
       "      <td>Non Fiction</td>\n",
       "      <td>4.899469</td>\n",
       "    </tr>\n",
       "  </tbody>\n",
       "</table>\n",
       "</div>"
      ],
      "text/plain": [
       "                                                  Name       Author  \\\n",
       "187  Jesus Calling: Enjoying Peace in His Presence ...  Sarah Young   \n",
       "188  Jesus Calling: Enjoying Peace in His Presence ...  Sarah Young   \n",
       "189  Jesus Calling: Enjoying Peace in His Presence ...  Sarah Young   \n",
       "190  Jesus Calling: Enjoying Peace in His Presence ...  Sarah Young   \n",
       "191  Jesus Calling: Enjoying Peace in His Presence ...  Sarah Young   \n",
       "192  Jesus Calling: Enjoying Peace in His Presence ...  Sarah Young   \n",
       "\n",
       "     User Rating  Reviews  Price  Year        Genre  Weighted Rating  \n",
       "187          4.9    19576      8  2011  Non Fiction         4.899469  \n",
       "188          4.9    19576      8  2012  Non Fiction         4.899469  \n",
       "189          4.9    19576      8  2013  Non Fiction         4.899469  \n",
       "190          4.9    19576      8  2014  Non Fiction         4.899469  \n",
       "191          4.9    19576      8  2015  Non Fiction         4.899469  \n",
       "192          4.9    19576      8  2016  Non Fiction         4.899469  "
      ]
     },
     "execution_count": 28,
     "metadata": {},
     "output_type": "execute_result"
    }
   ],
   "source": [
    "df_nonfiction[df_nonfiction['Weighted Rating'] == df_nonfiction['Weighted Rating'].max()]"
   ]
  },
  {
   "cell_type": "code",
   "execution_count": 29,
   "id": "ultimate-firmware",
   "metadata": {},
   "outputs": [
    {
     "data": {
      "text/plain": [
       "'Jesus Calling: Enjoying Peace in His Presence (with Scripture References)'"
      ]
     },
     "execution_count": 29,
     "metadata": {},
     "output_type": "execute_result"
    }
   ],
   "source": [
    "df_nonfiction[df_nonfiction['Name'].str.contains(\"Jesus\")]['Name'][187]"
   ]
  },
  {
   "cell_type": "markdown",
   "id": "random-decrease",
   "metadata": {},
   "source": [
    "Judul buku nonfiksi terbaik ialah __\"Jesus Calling: Enjoying Peace in His Presence (with Scripture References)\"__ yang ditulis oleh Sarah Young. Buku ini memiliki _Weighted Rating_ sebesar 4.899469 yang diulas sebanyak 19576 orang."
   ]
  },
  {
   "cell_type": "markdown",
   "id": "critical-turkey",
   "metadata": {},
   "source": [
    "Selain buku terbaik, buku lainnya juga dapat diurutkan dengan mengurutkan _weighted ranking_-nya dari yang terbesar. Akan diambil 10 buku terbaik untuk tiap _genre_-nya"
   ]
  },
  {
   "cell_type": "code",
   "execution_count": 30,
   "id": "quantitative-interpretation",
   "metadata": {},
   "outputs": [
    {
     "data": {
      "text/html": [
       "<div>\n",
       "<style scoped>\n",
       "    .dataframe tbody tr th:only-of-type {\n",
       "        vertical-align: middle;\n",
       "    }\n",
       "\n",
       "    .dataframe tbody tr th {\n",
       "        vertical-align: top;\n",
       "    }\n",
       "\n",
       "    .dataframe thead th {\n",
       "        text-align: right;\n",
       "    }\n",
       "</style>\n",
       "<table border=\"1\" class=\"dataframe\">\n",
       "  <thead>\n",
       "    <tr style=\"text-align: right;\">\n",
       "      <th></th>\n",
       "      <th>Name</th>\n",
       "      <th>Author</th>\n",
       "      <th>User Rating</th>\n",
       "      <th>Reviews</th>\n",
       "      <th>Price</th>\n",
       "      <th>Year</th>\n",
       "      <th>Genre</th>\n",
       "      <th>Weighted Rating</th>\n",
       "    </tr>\n",
       "  </thead>\n",
       "  <tbody>\n",
       "    <tr>\n",
       "      <th>247</th>\n",
       "      <td>Oh, the Places You'll Go!</td>\n",
       "      <td>Dr. Seuss</td>\n",
       "      <td>4.9</td>\n",
       "      <td>21834</td>\n",
       "      <td>8</td>\n",
       "      <td>2014</td>\n",
       "      <td>Fiction</td>\n",
       "      <td>4.899524</td>\n",
       "    </tr>\n",
       "    <tr>\n",
       "      <th>153</th>\n",
       "      <td>Harry Potter and the Chamber of Secrets: The I...</td>\n",
       "      <td>J.K. Rowling</td>\n",
       "      <td>4.9</td>\n",
       "      <td>19622</td>\n",
       "      <td>30</td>\n",
       "      <td>2016</td>\n",
       "      <td>Fiction</td>\n",
       "      <td>4.899470</td>\n",
       "    </tr>\n",
       "    <tr>\n",
       "      <th>476</th>\n",
       "      <td>The Very Hungry Caterpillar</td>\n",
       "      <td>Eric Carle</td>\n",
       "      <td>4.9</td>\n",
       "      <td>19546</td>\n",
       "      <td>5</td>\n",
       "      <td>2013</td>\n",
       "      <td>Fiction</td>\n",
       "      <td>4.899468</td>\n",
       "    </tr>\n",
       "    <tr>\n",
       "      <th>40</th>\n",
       "      <td>Brown Bear, Brown Bear, What Do You See?</td>\n",
       "      <td>Bill Martin Jr.</td>\n",
       "      <td>4.9</td>\n",
       "      <td>14344</td>\n",
       "      <td>5</td>\n",
       "      <td>2017</td>\n",
       "      <td>Fiction</td>\n",
       "      <td>4.899275</td>\n",
       "    </tr>\n",
       "    <tr>\n",
       "      <th>85</th>\n",
       "      <td>Dog Man: Fetch-22: From the Creator of Captain...</td>\n",
       "      <td>Dav Pilkey</td>\n",
       "      <td>4.9</td>\n",
       "      <td>12619</td>\n",
       "      <td>8</td>\n",
       "      <td>2019</td>\n",
       "      <td>Fiction</td>\n",
       "      <td>4.899177</td>\n",
       "    </tr>\n",
       "    <tr>\n",
       "      <th>207</th>\n",
       "      <td>Last Week Tonight with John Oliver Presents A ...</td>\n",
       "      <td>Jill Twiss</td>\n",
       "      <td>4.9</td>\n",
       "      <td>11881</td>\n",
       "      <td>13</td>\n",
       "      <td>2018</td>\n",
       "      <td>Fiction</td>\n",
       "      <td>4.899126</td>\n",
       "    </tr>\n",
       "    <tr>\n",
       "      <th>157</th>\n",
       "      <td>Harry Potter and the Sorcerer's Stone: The Ill...</td>\n",
       "      <td>J.K. Rowling</td>\n",
       "      <td>4.9</td>\n",
       "      <td>10052</td>\n",
       "      <td>22</td>\n",
       "      <td>2016</td>\n",
       "      <td>Fiction</td>\n",
       "      <td>4.898967</td>\n",
       "    </tr>\n",
       "    <tr>\n",
       "      <th>545</th>\n",
       "      <td>Wrecking Ball (Diary of a Wimpy Kid Book 14)</td>\n",
       "      <td>Jeff Kinney</td>\n",
       "      <td>4.9</td>\n",
       "      <td>9413</td>\n",
       "      <td>8</td>\n",
       "      <td>2019</td>\n",
       "      <td>Fiction</td>\n",
       "      <td>4.898897</td>\n",
       "    </tr>\n",
       "    <tr>\n",
       "      <th>303</th>\n",
       "      <td>Strange Planet (Strange Planet Series)</td>\n",
       "      <td>Nathan W. Pyle</td>\n",
       "      <td>4.9</td>\n",
       "      <td>9382</td>\n",
       "      <td>6</td>\n",
       "      <td>2019</td>\n",
       "      <td>Fiction</td>\n",
       "      <td>4.898894</td>\n",
       "    </tr>\n",
       "    <tr>\n",
       "      <th>86</th>\n",
       "      <td>Dog Man: For Whom the Ball Rolls: From the Cre...</td>\n",
       "      <td>Dav Pilkey</td>\n",
       "      <td>4.9</td>\n",
       "      <td>9089</td>\n",
       "      <td>8</td>\n",
       "      <td>2019</td>\n",
       "      <td>Fiction</td>\n",
       "      <td>4.898858</td>\n",
       "    </tr>\n",
       "  </tbody>\n",
       "</table>\n",
       "</div>"
      ],
      "text/plain": [
       "                                                  Name           Author  \\\n",
       "247                          Oh, the Places You'll Go!        Dr. Seuss   \n",
       "153  Harry Potter and the Chamber of Secrets: The I...     J.K. Rowling   \n",
       "476                        The Very Hungry Caterpillar       Eric Carle   \n",
       "40            Brown Bear, Brown Bear, What Do You See?  Bill Martin Jr.   \n",
       "85   Dog Man: Fetch-22: From the Creator of Captain...       Dav Pilkey   \n",
       "207  Last Week Tonight with John Oliver Presents A ...       Jill Twiss   \n",
       "157  Harry Potter and the Sorcerer's Stone: The Ill...     J.K. Rowling   \n",
       "545       Wrecking Ball (Diary of a Wimpy Kid Book 14)      Jeff Kinney   \n",
       "303             Strange Planet (Strange Planet Series)   Nathan W. Pyle   \n",
       "86   Dog Man: For Whom the Ball Rolls: From the Cre...       Dav Pilkey   \n",
       "\n",
       "     User Rating  Reviews  Price  Year    Genre  Weighted Rating  \n",
       "247          4.9    21834      8  2014  Fiction         4.899524  \n",
       "153          4.9    19622     30  2016  Fiction         4.899470  \n",
       "476          4.9    19546      5  2013  Fiction         4.899468  \n",
       "40           4.9    14344      5  2017  Fiction         4.899275  \n",
       "85           4.9    12619      8  2019  Fiction         4.899177  \n",
       "207          4.9    11881     13  2018  Fiction         4.899126  \n",
       "157          4.9    10052     22  2016  Fiction         4.898967  \n",
       "545          4.9     9413      8  2019  Fiction         4.898897  \n",
       "303          4.9     9382      6  2019  Fiction         4.898894  \n",
       "86           4.9     9089      8  2019  Fiction         4.898858  "
      ]
     },
     "execution_count": 30,
     "metadata": {},
     "output_type": "execute_result"
    }
   ],
   "source": [
    "# genre fiksi\n",
    "df_fiction.sort_values(['Weighted Rating'], ascending=False) \\\n",
    ".drop_duplicates('Name').head(10)"
   ]
  },
  {
   "cell_type": "code",
   "execution_count": 31,
   "id": "biblical-moral",
   "metadata": {},
   "outputs": [
    {
     "data": {
      "text/html": [
       "<div>\n",
       "<style scoped>\n",
       "    .dataframe tbody tr th:only-of-type {\n",
       "        vertical-align: middle;\n",
       "    }\n",
       "\n",
       "    .dataframe tbody tr th {\n",
       "        vertical-align: top;\n",
       "    }\n",
       "\n",
       "    .dataframe thead th {\n",
       "        text-align: right;\n",
       "    }\n",
       "</style>\n",
       "<table border=\"1\" class=\"dataframe\">\n",
       "  <thead>\n",
       "    <tr style=\"text-align: right;\">\n",
       "      <th></th>\n",
       "      <th>Name</th>\n",
       "      <th>Author</th>\n",
       "      <th>User Rating</th>\n",
       "      <th>Reviews</th>\n",
       "      <th>Price</th>\n",
       "      <th>Year</th>\n",
       "      <th>Genre</th>\n",
       "      <th>Weighted Rating</th>\n",
       "    </tr>\n",
       "  </thead>\n",
       "  <tbody>\n",
       "    <tr>\n",
       "      <th>191</th>\n",
       "      <td>Jesus Calling: Enjoying Peace in His Presence ...</td>\n",
       "      <td>Sarah Young</td>\n",
       "      <td>4.9</td>\n",
       "      <td>19576</td>\n",
       "      <td>8</td>\n",
       "      <td>2015</td>\n",
       "      <td>Non Fiction</td>\n",
       "      <td>4.899469</td>\n",
       "    </tr>\n",
       "    <tr>\n",
       "      <th>431</th>\n",
       "      <td>The Magnolia Story</td>\n",
       "      <td>Chip Gaines</td>\n",
       "      <td>4.9</td>\n",
       "      <td>7861</td>\n",
       "      <td>5</td>\n",
       "      <td>2016</td>\n",
       "      <td>Non Fiction</td>\n",
       "      <td>4.898681</td>\n",
       "    </tr>\n",
       "    <tr>\n",
       "      <th>521</th>\n",
       "      <td>Unfreedom of the Press</td>\n",
       "      <td>Mark R. Levin</td>\n",
       "      <td>4.9</td>\n",
       "      <td>5956</td>\n",
       "      <td>11</td>\n",
       "      <td>2019</td>\n",
       "      <td>Non Fiction</td>\n",
       "      <td>4.898261</td>\n",
       "    </tr>\n",
       "    <tr>\n",
       "      <th>151</th>\n",
       "      <td>Hamilton: The Revolution</td>\n",
       "      <td>Lin-Manuel Miranda</td>\n",
       "      <td>4.9</td>\n",
       "      <td>5867</td>\n",
       "      <td>54</td>\n",
       "      <td>2016</td>\n",
       "      <td>Non Fiction</td>\n",
       "      <td>4.898235</td>\n",
       "    </tr>\n",
       "    <tr>\n",
       "      <th>244</th>\n",
       "      <td>Obama: An Intimate Portrait</td>\n",
       "      <td>Pete Souza</td>\n",
       "      <td>4.9</td>\n",
       "      <td>3192</td>\n",
       "      <td>22</td>\n",
       "      <td>2017</td>\n",
       "      <td>Non Fiction</td>\n",
       "      <td>4.896773</td>\n",
       "    </tr>\n",
       "    <tr>\n",
       "      <th>174</th>\n",
       "      <td>Humans of New York : Stories</td>\n",
       "      <td>Brandon Stanton</td>\n",
       "      <td>4.9</td>\n",
       "      <td>2812</td>\n",
       "      <td>17</td>\n",
       "      <td>2015</td>\n",
       "      <td>Non Fiction</td>\n",
       "      <td>4.896342</td>\n",
       "    </tr>\n",
       "    <tr>\n",
       "      <th>33</th>\n",
       "      <td>Becoming</td>\n",
       "      <td>Michelle Obama</td>\n",
       "      <td>4.8</td>\n",
       "      <td>61133</td>\n",
       "      <td>11</td>\n",
       "      <td>2019</td>\n",
       "      <td>Non Fiction</td>\n",
       "      <td>4.799890</td>\n",
       "    </tr>\n",
       "    <tr>\n",
       "      <th>515</th>\n",
       "      <td>Unbroken: A World War II Story of Survival, Re...</td>\n",
       "      <td>Laura Hillenbrand</td>\n",
       "      <td>4.8</td>\n",
       "      <td>29673</td>\n",
       "      <td>16</td>\n",
       "      <td>2010</td>\n",
       "      <td>Non Fiction</td>\n",
       "      <td>4.799774</td>\n",
       "    </tr>\n",
       "    <tr>\n",
       "      <th>326</th>\n",
       "      <td>The 5 Love Languages: The Secret to Love that ...</td>\n",
       "      <td>Gary Chapman</td>\n",
       "      <td>4.8</td>\n",
       "      <td>25554</td>\n",
       "      <td>8</td>\n",
       "      <td>2016</td>\n",
       "      <td>Non Fiction</td>\n",
       "      <td>4.799737</td>\n",
       "    </tr>\n",
       "    <tr>\n",
       "      <th>352</th>\n",
       "      <td>The Boys in the Boat: Nine Americans and Their...</td>\n",
       "      <td>Daniel James Brown</td>\n",
       "      <td>4.8</td>\n",
       "      <td>23358</td>\n",
       "      <td>12</td>\n",
       "      <td>2015</td>\n",
       "      <td>Non Fiction</td>\n",
       "      <td>4.799713</td>\n",
       "    </tr>\n",
       "  </tbody>\n",
       "</table>\n",
       "</div>"
      ],
      "text/plain": [
       "                                                  Name              Author  \\\n",
       "191  Jesus Calling: Enjoying Peace in His Presence ...         Sarah Young   \n",
       "431                                 The Magnolia Story         Chip Gaines   \n",
       "521                             Unfreedom of the Press       Mark R. Levin   \n",
       "151                           Hamilton: The Revolution  Lin-Manuel Miranda   \n",
       "244                        Obama: An Intimate Portrait          Pete Souza   \n",
       "174                       Humans of New York : Stories     Brandon Stanton   \n",
       "33                                            Becoming      Michelle Obama   \n",
       "515  Unbroken: A World War II Story of Survival, Re...   Laura Hillenbrand   \n",
       "326  The 5 Love Languages: The Secret to Love that ...        Gary Chapman   \n",
       "352  The Boys in the Boat: Nine Americans and Their...  Daniel James Brown   \n",
       "\n",
       "     User Rating  Reviews  Price  Year        Genre  Weighted Rating  \n",
       "191          4.9    19576      8  2015  Non Fiction         4.899469  \n",
       "431          4.9     7861      5  2016  Non Fiction         4.898681  \n",
       "521          4.9     5956     11  2019  Non Fiction         4.898261  \n",
       "151          4.9     5867     54  2016  Non Fiction         4.898235  \n",
       "244          4.9     3192     22  2017  Non Fiction         4.896773  \n",
       "174          4.9     2812     17  2015  Non Fiction         4.896342  \n",
       "33           4.8    61133     11  2019  Non Fiction         4.799890  \n",
       "515          4.8    29673     16  2010  Non Fiction         4.799774  \n",
       "326          4.8    25554      8  2016  Non Fiction         4.799737  \n",
       "352          4.8    23358     12  2015  Non Fiction         4.799713  "
      ]
     },
     "execution_count": 31,
     "metadata": {},
     "output_type": "execute_result"
    }
   ],
   "source": [
    "# genre nonfiksi\n",
    "df_nonfiction.sort_values(['Weighted Rating'], ascending=False) \\\n",
    ".drop_duplicates('Name').head(10)"
   ]
  },
  {
   "cell_type": "markdown",
   "id": "monetary-ridge",
   "metadata": {},
   "source": [
    "Kesepuluh judul buku memiliki nilai _Weighted Rating_ yang hampir sama sehingga penggunaan plot bar tidak akan terlalu efektif. "
   ]
  },
  {
   "cell_type": "markdown",
   "id": "acoustic-gravity",
   "metadata": {},
   "source": [
    "### Author Terbaik"
   ]
  },
  {
   "cell_type": "markdown",
   "id": "greek-portrait",
   "metadata": {},
   "source": [
    "Pencarian author / penulis terbaik dapat dilakukan dengan berbagai cara. Salah satu cara yang akan dilakukan pada analisa kali ini ialah mencari penulis dengan buku terbanyak. Cara ini dipakai dengan pertimbangan buku yang ada di dataset ini sudah termasuk ke dalam 50 _bestselling_ sehingga hanya cukup mencari penulis dengan banyak buku yang masuk ke dalam 50 _bestselling_."
   ]
  },
  {
   "cell_type": "code",
   "execution_count": 32,
   "id": "biblical-length",
   "metadata": {},
   "outputs": [
    {
     "data": {
      "text/plain": [
       "<AxesSubplot:ylabel='Author'>"
      ]
     },
     "execution_count": 32,
     "metadata": {},
     "output_type": "execute_result"
    },
    {
     "data": {
      "image/png": "[encoded data removed]",
      "text/plain": [
       "<Figure size 432x288 with 1 Axes>"
      ]
     },
     "metadata": {},
     "output_type": "display_data"
    }
   ],
   "source": [
    "df.groupby('Author').size().sort_values(ascending=False).head(10).plot.barh()"
   ]
  },
  {
   "cell_type": "markdown",
   "id": "atmospheric-brass",
   "metadata": {},
   "source": [
    "Untuk penulis terbaik didapat oleh Jeff Kinney dengan total buku sebanyak 12. Ranking keseluruhan genre buku dapat dilihat juga pada grafik di atas."
   ]
  },
  {
   "cell_type": "code",
   "execution_count": 35,
   "id": "assumed-capacity",
   "metadata": {},
   "outputs": [
    {
     "data": {
      "text/html": [
       "<div>\n",
       "<style scoped>\n",
       "    .dataframe tbody tr th:only-of-type {\n",
       "        vertical-align: middle;\n",
       "    }\n",
       "\n",
       "    .dataframe tbody tr th {\n",
       "        vertical-align: top;\n",
       "    }\n",
       "\n",
       "    .dataframe thead th {\n",
       "        text-align: right;\n",
       "    }\n",
       "</style>\n",
       "<table border=\"1\" class=\"dataframe\">\n",
       "  <thead>\n",
       "    <tr style=\"text-align: right;\">\n",
       "      <th></th>\n",
       "      <th>Name</th>\n",
       "      <th>Author</th>\n",
       "      <th>User Rating</th>\n",
       "      <th>Reviews</th>\n",
       "      <th>Price</th>\n",
       "      <th>Year</th>\n",
       "      <th>Genre</th>\n",
       "      <th>Weighted Rating</th>\n",
       "    </tr>\n",
       "  </thead>\n",
       "  <tbody>\n",
       "    <tr>\n",
       "      <th>42</th>\n",
       "      <td>Cabin Fever (Diary of a Wimpy Kid, Book 6)</td>\n",
       "      <td>Jeff Kinney</td>\n",
       "      <td>4.8</td>\n",
       "      <td>4505</td>\n",
       "      <td>0</td>\n",
       "      <td>2011</td>\n",
       "      <td>Fiction</td>\n",
       "      <td>4.798520</td>\n",
       "    </tr>\n",
       "    <tr>\n",
       "      <th>71</th>\n",
       "      <td>Diary of a Wimpy Kid: Hard Luck, Book 8</td>\n",
       "      <td>Jeff Kinney</td>\n",
       "      <td>4.8</td>\n",
       "      <td>6812</td>\n",
       "      <td>0</td>\n",
       "      <td>2013</td>\n",
       "      <td>Fiction</td>\n",
       "      <td>4.799019</td>\n",
       "    </tr>\n",
       "    <tr>\n",
       "      <th>72</th>\n",
       "      <td>Diary of a Wimpy Kid: The Last Straw (Book 3)</td>\n",
       "      <td>Jeff Kinney</td>\n",
       "      <td>4.8</td>\n",
       "      <td>3837</td>\n",
       "      <td>15</td>\n",
       "      <td>2009</td>\n",
       "      <td>Fiction</td>\n",
       "      <td>4.798265</td>\n",
       "    </tr>\n",
       "    <tr>\n",
       "      <th>73</th>\n",
       "      <td>Diary of a Wimpy Kid: The Long Haul</td>\n",
       "      <td>Jeff Kinney</td>\n",
       "      <td>4.8</td>\n",
       "      <td>6540</td>\n",
       "      <td>22</td>\n",
       "      <td>2014</td>\n",
       "      <td>Fiction</td>\n",
       "      <td>4.798978</td>\n",
       "    </tr>\n",
       "    <tr>\n",
       "      <th>80</th>\n",
       "      <td>Dog Days (Diary of a Wimpy Kid, Book 4) (Volum...</td>\n",
       "      <td>Jeff Kinney</td>\n",
       "      <td>4.8</td>\n",
       "      <td>3181</td>\n",
       "      <td>12</td>\n",
       "      <td>2009</td>\n",
       "      <td>Fiction</td>\n",
       "      <td>4.797912</td>\n",
       "    </tr>\n",
       "    <tr>\n",
       "      <th>88</th>\n",
       "      <td>Double Down (Diary of a Wimpy Kid #11)</td>\n",
       "      <td>Jeff Kinney</td>\n",
       "      <td>4.8</td>\n",
       "      <td>5118</td>\n",
       "      <td>20</td>\n",
       "      <td>2016</td>\n",
       "      <td>Fiction</td>\n",
       "      <td>4.798696</td>\n",
       "    </tr>\n",
       "    <tr>\n",
       "      <th>253</th>\n",
       "      <td>Old School (Diary of a Wimpy Kid #10)</td>\n",
       "      <td>Jeff Kinney</td>\n",
       "      <td>4.8</td>\n",
       "      <td>6169</td>\n",
       "      <td>7</td>\n",
       "      <td>2015</td>\n",
       "      <td>Fiction</td>\n",
       "      <td>4.798917</td>\n",
       "    </tr>\n",
       "    <tr>\n",
       "      <th>381</th>\n",
       "      <td>The Getaway</td>\n",
       "      <td>Jeff Kinney</td>\n",
       "      <td>4.8</td>\n",
       "      <td>5836</td>\n",
       "      <td>0</td>\n",
       "      <td>2017</td>\n",
       "      <td>Fiction</td>\n",
       "      <td>4.798856</td>\n",
       "    </tr>\n",
       "    <tr>\n",
       "      <th>435</th>\n",
       "      <td>The Meltdown (Diary of a Wimpy Kid Book 13)</td>\n",
       "      <td>Jeff Kinney</td>\n",
       "      <td>4.8</td>\n",
       "      <td>5898</td>\n",
       "      <td>8</td>\n",
       "      <td>2018</td>\n",
       "      <td>Fiction</td>\n",
       "      <td>4.798868</td>\n",
       "    </tr>\n",
       "    <tr>\n",
       "      <th>468</th>\n",
       "      <td>The Third Wheel (Diary of a Wimpy Kid, Book 7)</td>\n",
       "      <td>Jeff Kinney</td>\n",
       "      <td>4.7</td>\n",
       "      <td>6377</td>\n",
       "      <td>7</td>\n",
       "      <td>2012</td>\n",
       "      <td>Fiction</td>\n",
       "      <td>4.699529</td>\n",
       "    </tr>\n",
       "    <tr>\n",
       "      <th>474</th>\n",
       "      <td>The Ugly Truth (Diary of a Wimpy Kid, Book 5)</td>\n",
       "      <td>Jeff Kinney</td>\n",
       "      <td>4.8</td>\n",
       "      <td>3796</td>\n",
       "      <td>12</td>\n",
       "      <td>2010</td>\n",
       "      <td>Fiction</td>\n",
       "      <td>4.798247</td>\n",
       "    </tr>\n",
       "    <tr>\n",
       "      <th>545</th>\n",
       "      <td>Wrecking Ball (Diary of a Wimpy Kid Book 14)</td>\n",
       "      <td>Jeff Kinney</td>\n",
       "      <td>4.9</td>\n",
       "      <td>9413</td>\n",
       "      <td>8</td>\n",
       "      <td>2019</td>\n",
       "      <td>Fiction</td>\n",
       "      <td>4.898897</td>\n",
       "    </tr>\n",
       "  </tbody>\n",
       "</table>\n",
       "</div>"
      ],
      "text/plain": [
       "                                                  Name       Author  \\\n",
       "42          Cabin Fever (Diary of a Wimpy Kid, Book 6)  Jeff Kinney   \n",
       "71             Diary of a Wimpy Kid: Hard Luck, Book 8  Jeff Kinney   \n",
       "72       Diary of a Wimpy Kid: The Last Straw (Book 3)  Jeff Kinney   \n",
       "73                 Diary of a Wimpy Kid: The Long Haul  Jeff Kinney   \n",
       "80   Dog Days (Diary of a Wimpy Kid, Book 4) (Volum...  Jeff Kinney   \n",
       "88              Double Down (Diary of a Wimpy Kid #11)  Jeff Kinney   \n",
       "253              Old School (Diary of a Wimpy Kid #10)  Jeff Kinney   \n",
       "381                                        The Getaway  Jeff Kinney   \n",
       "435        The Meltdown (Diary of a Wimpy Kid Book 13)  Jeff Kinney   \n",
       "468     The Third Wheel (Diary of a Wimpy Kid, Book 7)  Jeff Kinney   \n",
       "474      The Ugly Truth (Diary of a Wimpy Kid, Book 5)  Jeff Kinney   \n",
       "545       Wrecking Ball (Diary of a Wimpy Kid Book 14)  Jeff Kinney   \n",
       "\n",
       "     User Rating  Reviews  Price  Year    Genre  Weighted Rating  \n",
       "42           4.8     4505      0  2011  Fiction         4.798520  \n",
       "71           4.8     6812      0  2013  Fiction         4.799019  \n",
       "72           4.8     3837     15  2009  Fiction         4.798265  \n",
       "73           4.8     6540     22  2014  Fiction         4.798978  \n",
       "80           4.8     3181     12  2009  Fiction         4.797912  \n",
       "88           4.8     5118     20  2016  Fiction         4.798696  \n",
       "253          4.8     6169      7  2015  Fiction         4.798917  \n",
       "381          4.8     5836      0  2017  Fiction         4.798856  \n",
       "435          4.8     5898      8  2018  Fiction         4.798868  \n",
       "468          4.7     6377      7  2012  Fiction         4.699529  \n",
       "474          4.8     3796     12  2010  Fiction         4.798247  \n",
       "545          4.9     9413      8  2019  Fiction         4.898897  "
      ]
     },
     "execution_count": 35,
     "metadata": {},
     "output_type": "execute_result"
    }
   ],
   "source": [
    "df[df['Author'] == 'Jeff Kinney']"
   ]
  },
  {
   "cell_type": "markdown",
   "id": "later-stanford",
   "metadata": {},
   "source": [
    "Untuk informasi tambahan, berikut buku-buku yang ditulis oleh Jeff Kinney dan masuk ke dalam 50 _bestselling_. Kedua belas buku ini merupakan buku fiksi yang berseri."
   ]
  }
 ],
 "metadata": {
  "kernelspec": {
   "display_name": "Python 3",
   "language": "python",
   "name": "python3"
  },
  "language_info": {
   "codemirror_mode": {
    "name": "ipython",
    "version": 3
   },
   "file_extension": ".py",
   "mimetype": "text/x-python",
   "name": "python",
   "nbconvert_exporter": "python",
   "pygments_lexer": "ipython3",
   "version": "3.9.1"
  }
 },
 "nbformat": 4,
 "nbformat_minor": 5
}
